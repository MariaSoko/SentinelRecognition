{
 "cells": [
  {
   "cell_type": "markdown",
   "metadata": {},
   "source": [
    "# 1. Pobranie sciezek do kanalow obrazow Sentinel-2"
   ]
  },
  {
   "cell_type": "code",
   "execution_count": 1,
   "metadata": {},
   "outputs": [],
   "source": [
    "from osgeo import gdal, gdalconst\n",
    "import os\n",
    "import numpy as np"
   ]
  },
  {
   "cell_type": "code",
   "execution_count": 2,
   "metadata": {},
   "outputs": [],
   "source": [
    "def get_bands(bands_filepath, band_nrs):\n",
    "    \"\"\"\n",
    "    Funkcja znajduje pliki i przypisuje sciezki do nich jako wartosci w wynikowym slowniku\n",
    "    parametry:  bands_filepath - sciezka do folderu z rozdzielczosciami przestrzennymi (IMG_DATA),\n",
    "                bands_nrs - lista z szukanymi kanalami\n",
    "    zwraca: bands_dict - slownik, gdzie klucz: oznaczenie kanalu, np. 'B02', a wartosc: sciezka do pliku\n",
    "    \"\"\"\n",
    "    bands_dict ={}\n",
    "    files = os.listdir(bands_filepath)\n",
    "    for file in files:\n",
    "        band_nr = file[-7:-4]\n",
    "        if band_nr in band_nrs:\n",
    "            bands_dict[band_nr] = \"{}\\{}\".format(bands_filepath, file)\n",
    "    return bands_dict"
   ]
  },
  {
   "cell_type": "code",
   "execution_count": 3,
   "metadata": {},
   "outputs": [],
   "source": [
    "def resample_bands_to_10m_sr(band_path, factor, output_path):\n",
    "    input = gdal.Open(band_path, gdalconst.GA_ReadOnly)\n",
    "    inputProj = input.GetProjection()\n",
    "    inputTrans = (input.GetGeoTransform()[0], 10.0, input.GetGeoTransform()[2], \n",
    "              input.GetGeoTransform()[3], input.GetGeoTransform()[4], -10.0)\n",
    "    x = input.RasterXSize*factor\n",
    "    y = input.RasterYSize*factor\n",
    "    bandreference = input.GetRasterBand(1)   \n",
    "\n",
    "    driver= gdal.GetDriverByName('GTiff')\n",
    "    output = driver.Create(output_path,x,y,1,bandreference.DataType)\n",
    "    output.SetGeoTransform(inputTrans)\n",
    "    output.SetProjection(inputProj)\n",
    "\n",
    "    gdal.ReprojectImage(input,output,inputProj,inputProj,gdalconst.GRA_CubicSpline)\n",
    "\n",
    "    del output"
   ]
  },
  {
   "cell_type": "code",
   "execution_count": 4,
   "metadata": {},
   "outputs": [],
   "source": [
    "images_path = {\"20200407\" : r\"D:\\Sentinele\\S2B_MSIL1C_20200407T095029_N0209_R079_T34UDE_20200407T115232\\S2B_MSIL1C_20200407T095029_N0209_R079_T34UDE_20200407T115232.SAFE\\GRANULE\\L1C_T34UDE_A016121_20200407T095026\\IMG_DATA\",\n",
    "              \"20200408\": r\"D:\\Sentinele\\S2A_MSIL1C_20200408T101021_N0209_R022_T33UWV_20200408T153254\\S2A_MSIL1C_20200408T101021_N0209_R022_T33UWV_20200408T153254.SAFE\\GRANULE\\L1C_T33UWV_A025044_20200408T101022\\IMG_DATA\",\n",
    "              \"20200409\": r\"D:\\Sentinele\\S2A_MSIL1C_20200409T094031_N0209_R036_T34UEC_20200409T114209\\S2A_MSIL1C_20200409T094031_N0209_R036_T34UEC_20200409T114209.SAFE\\GRANULE\\L1C_T34UEC_A025058_20200409T094554\\IMG_DATA\"}"
   ]
  },
  {
   "cell_type": "code",
   "execution_count": 5,
   "metadata": {},
   "outputs": [],
   "source": [
    "images_workspace = {\"20200407\": r\"D:\\Sentinele\\resampling_20200407\",\n",
    "                   \"20200408\": r\"D:\\Sentinele\\resampling_20200408\",\n",
    "                   \"20200409\": r\"D:\\Sentinele\\resampling_20200409\"}"
   ]
  },
  {
   "cell_type": "code",
   "execution_count": 6,
   "metadata": {},
   "outputs": [],
   "source": [
    "bands_nrs = [\"B01\", \"B02\", \"B03\", \"B04\", \"B05\", \"B06\", \"B07\", \"B08\", \"B8A\", \"B09\", \"B10\", \"B11\", \"B12\"]"
   ]
  },
  {
   "cell_type": "code",
   "execution_count": 7,
   "metadata": {},
   "outputs": [],
   "source": [
    "image_date = \"20200408\""
   ]
  },
  {
   "cell_type": "code",
   "execution_count": null,
   "metadata": {},
   "outputs": [],
   "source": [
    "bands_files = get_bands(images_path[image_date], bands_nrs)\n",
    "    \n",
    "for key, value in bands_files.items():\n",
    "    output_path = \"{}\\{}{}\".format(images_workspace[image_date], key, \".tif\")\n",
    "    if key in (\"B05\", \"B06\", \"B07\", \"B8A\", \"B11\", \"B12\"):\n",
    "        resample_bands_to_10m_sr(value, 2, output_path)\n",
    "        bands_files[key] = output_path\n",
    "    elif key in (\"B01\", \"B09\", \"B10\"):\n",
    "        resample_bands_to_10m_sr(value, 6, output_path)\n",
    "        bands_files[key] = output_path"
   ]
  },
  {
   "cell_type": "markdown",
   "metadata": {},
   "source": [
    "# 2. Wczytanie obrazow do numpy array "
   ]
  },
  {
   "cell_type": "code",
   "execution_count": 9,
   "metadata": {},
   "outputs": [],
   "source": [
    "data = []\n",
    "for i in bands_nrs:\n",
    "    data.append(gdal.Open(bands_files[i]).ReadAsArray())"
   ]
  },
  {
   "cell_type": "code",
   "execution_count": 10,
   "metadata": {},
   "outputs": [
    {
     "name": "stdout",
     "output_type": "stream",
     "text": [
      "(10980, 10980)\n",
      "(10980, 10980)\n",
      "(10980, 10980)\n",
      "(10980, 10980)\n",
      "(10980, 10980)\n",
      "(10980, 10980)\n",
      "(10980, 10980)\n",
      "(10980, 10980)\n",
      "(10980, 10980)\n",
      "(10980, 10980)\n",
      "(10980, 10980)\n",
      "(10980, 10980)\n",
      "(10980, 10980)\n"
     ]
    }
   ],
   "source": [
    "for d in data:\n",
    "    print(d.shape)"
   ]
  },
  {
   "cell_type": "code",
   "execution_count": 11,
   "metadata": {},
   "outputs": [],
   "source": [
    "data = np.stack(data, axis=-1).astype('float32')"
   ]
  },
  {
   "cell_type": "code",
   "execution_count": 12,
   "metadata": {},
   "outputs": [
    {
     "data": {
      "text/plain": [
       "(10980, 10980, 13)"
      ]
     },
     "execution_count": 12,
     "metadata": {},
     "output_type": "execute_result"
    }
   ],
   "source": [
    "data.shape"
   ]
  },
  {
   "cell_type": "code",
   "execution_count": 13,
   "metadata": {},
   "outputs": [
    {
     "data": {
      "text/plain": [
       "(10980, 10980, 12)"
      ]
     },
     "execution_count": 13,
     "metadata": {},
     "output_type": "execute_result"
    }
   ],
   "source": [
    "remove_idx = 10\n",
    "data = np.concatenate(\n",
    "    ( data[:,:,0:remove_idx],\n",
    "      data[:, :, remove_idx+1:]),\n",
    "    axis=2)\n",
    "data.shape"
   ]
  },
  {
   "cell_type": "markdown",
   "metadata": {},
   "source": [
    "# 3. Normalizacja"
   ]
  },
  {
   "cell_type": "code",
   "execution_count": 14,
   "metadata": {},
   "outputs": [],
   "source": [
    "data = np.reshape(data, (1, 10980, 10980, 12))"
   ]
  },
  {
   "cell_type": "code",
   "execution_count": 15,
   "metadata": {},
   "outputs": [
    {
     "data": {
      "text/plain": [
       "(1, 10980, 10980, 12)"
      ]
     },
     "execution_count": 15,
     "metadata": {},
     "output_type": "execute_result"
    }
   ],
   "source": [
    "data.shape"
   ]
  },
  {
   "cell_type": "code",
   "execution_count": 16,
   "metadata": {},
   "outputs": [],
   "source": [
    "def normalize(x):\n",
    "    x_means = np.zeros(x.shape[0])\n",
    "    x_stds=np.zeros(x.shape[0])\n",
    "    \n",
    "    for i in range(x.shape[0]):\n",
    "        x_means[i]=x[i,:].mean()\n",
    "        x_stds[i]=x[i,:].std()\n",
    "    x_stds+=1e-5\n",
    "    for i in range(x.shape[0]):\n",
    "        x[i]-=x_means[i]\n",
    "        x[i]/=x_stds[i]"
   ]
  },
  {
   "cell_type": "code",
   "execution_count": 17,
   "metadata": {},
   "outputs": [],
   "source": [
    "normalize(data)"
   ]
  },
  {
   "cell_type": "markdown",
   "metadata": {},
   "source": [
    "# 4. Predykcja"
   ]
  },
  {
   "cell_type": "code",
   "execution_count": 18,
   "metadata": {},
   "outputs": [
    {
     "name": "stderr",
     "output_type": "stream",
     "text": [
      "Using TensorFlow backend.\n"
     ]
    },
    {
     "name": "stdout",
     "output_type": "stream",
     "text": [
      "WARNING:tensorflow:From C:\\Users\\msokolowska\\AppData\\Local\\ESRI\\conda\\envs\\deeplearning\\lib\\site-packages\\keras\\backend\\tensorflow_backend.py:4070: The name tf.nn.max_pool is deprecated. Please use tf.nn.max_pool2d instead.\n",
      "\n",
      "WARNING:tensorflow:From C:\\Users\\msokolowska\\AppData\\Local\\ESRI\\conda\\envs\\deeplearning\\lib\\site-packages\\keras\\backend\\tensorflow_backend.py:422: The name tf.global_variables is deprecated. Please use tf.compat.v1.global_variables instead.\n",
      "\n"
     ]
    }
   ],
   "source": [
    "from keras.models import load_model\n",
    "model = load_model(r\"C:\\Users\\msokolowska\\INZ\\mery_final_inz\\wetransfer-febc02\\saved_model_12dims.h5\")"
   ]
  },
  {
   "cell_type": "code",
   "execution_count": 19,
   "metadata": {},
   "outputs": [],
   "source": [
    "classes = {0: 'Pasture',\n",
    " 1: 'Industrial',\n",
    " 2: 'River',\n",
    " 3: 'Residential',\n",
    " 4: 'HerbaceousVegetation',\n",
    " 5: 'PermanentCrop',\n",
    " 6: 'Highway',\n",
    " 7: 'SeaLake',\n",
    " 8: 'AnnualCrop',\n",
    " 9: 'Forest'}"
   ]
  },
  {
   "cell_type": "code",
   "execution_count": 20,
   "metadata": {},
   "outputs": [
    {
     "name": "stdout",
     "output_type": "stream",
     "text": [
      "D:\\Sentinele\\S2A_MSIL1C_20200408T101021_N0209_R022_T33UWV_20200408T153254\\S2A_MSIL1C_20200408T101021_N0209_R022_T33UWV_20200408T153254.SAFE\\GRANULE\\L1C_T33UWV_A025044_20200408T101022\\IMG_DATA\\T33UWV_20200408T101021_B02.jp2\n"
     ]
    }
   ],
   "source": [
    "raster = gdal.Open(bands_files['B02'])\n",
    "#ulx - Upper left corner x; uly - Upper left corner y\n",
    "ulx, xres, xskew, uly, yskew, yres  = raster.GetGeoTransform()\n",
    "#Lower right corner x\n",
    "lrx = ulx + (raster.RasterXSize * xres)\n",
    "#Lower right corner y\n",
    "lry = uly + (raster.RasterYSize * yres)\n",
    "print(bands_files['B02'])"
   ]
  },
  {
   "cell_type": "markdown",
   "metadata": {},
   "source": [
    "4.1. Odwolanie do ArcGIS Feature Class"
   ]
  },
  {
   "cell_type": "code",
   "execution_count": 21,
   "metadata": {},
   "outputs": [],
   "source": [
    "import arcpy"
   ]
  },
  {
   "cell_type": "code",
   "execution_count": null,
   "metadata": {},
   "outputs": [],
   "source": [
    "#Stworzenie klasy obiektow\n",
    "proj = raster.GetProjection()\n",
    "gdb_path = r\"C:\\Users\\msokolowska\\INZ\\INZ\\Default.gdb\"\n",
    "name = \"obraz{}\".format(image_date)\n",
    "result = arcpy.CreateFeatureclass_management(gdb_path, name, \"POLYGON\", \"#\", \"#\", \"#\", proj)\n",
    "arcpy.AddField_management(\"{}\\{}\".format(gdb_path, name), \"LandUseorCover\", \"TEXT\")\n",
    "fc = result[0]"
   ]
  },
  {
   "cell_type": "code",
   "execution_count": 24,
   "metadata": {},
   "outputs": [
    {
     "name": "stdout",
     "output_type": "stream",
     "text": [
      "obraz20200408ok\n"
     ]
    }
   ],
   "source": [
    "#Odwolanie do instejacej klasy obiektow\n",
    "arcpy.env.workspace = r\"C:\\Users\\msokolowska\\INZ\\INZ\\Default.gdb\"\n",
    "fc = arcpy.ListFeatureClasses()[5]\n",
    "print(fc)"
   ]
  },
  {
   "cell_type": "markdown",
   "metadata": {},
   "source": [
    "Pierwsze okno 64x64 piksele"
   ]
  },
  {
   "cell_type": "code",
   "execution_count": 31,
   "metadata": {},
   "outputs": [],
   "source": [
    "#wspolrzedne terenowe\n",
    "rasterxsize = raster.RasterXSize\n",
    "xupleft = ulx\n",
    "yupleft = uly\n",
    "\n",
    "xupright = xupleft+64*xres\n",
    "yupright = uly\n",
    "\n",
    "xdownright = xupright\n",
    "ydownright = (yupright + 64*yres)\n",
    "\n",
    "xdownleft = xupleft\n",
    "ydownleft = ydownright\n",
    "\n",
    "\n",
    "#wspolrzedne obrazu\n",
    "xstart = 0\n",
    "xend = 64\n",
    "ystart =0\n",
    "yend = 64"
   ]
  },
  {
   "cell_type": "code",
   "execution_count": 32,
   "metadata": {},
   "outputs": [],
   "source": [
    "rasterxsize = 1000\n",
    "lry = yupleft + rasterxsize*yres"
   ]
  },
  {
   "cell_type": "code",
   "execution_count": 38,
   "metadata": {},
   "outputs": [],
   "source": [
    "def _get_window(big_picture, x, y, w, h):  \n",
    "    return big_picture[y:y + h, x:x + w, :].reshape((1, h, w, -1))  \n",
    "\n",
    "def window_iter(big_picture, xstart=0, ystart=0, window_size=64, stepx=64, stepy=64):  \n",
    "    \"\"\"  \n",
    "    Args:  \n",
    "        big_picture: [HWC]  \n",
    "        nwindows: if -1, all windows  \n",
    "    Returns:  \n",
    "        tuple: (window, x0, y0), where x0, y0 - upper left coordinate in big_picture  \n",
    "    \"\"\"  \n",
    "    bpsh = big_picture.shape  \n",
    "    x = xstart  \n",
    "    y = ystart  \n",
    "    while y + window_size < bpsh[0]:  \n",
    "        yield _get_window(big_picture, x, y, window_size, window_size), x, y  \n",
    "        x = x + stepx if x + stepx + window_size < bpsh[1] else 0  \n",
    "        if x == 0:  \n",
    "            y += stepy"
   ]
  },
  {
   "cell_type": "code",
   "execution_count": 39,
   "metadata": {},
   "outputs": [
    {
     "name": "stdout",
     "output_type": "stream",
     "text": [
      "Residential\n",
      "Residential\n",
      "Residential\n",
      "Residential\n",
      "Residential\n",
      "Residential\n",
      "Residential\n",
      "Residential\n",
      "Residential\n",
      "Residential\n",
      "Residential\n",
      "Residential\n",
      "Residential\n",
      "Residential\n",
      "Residential\n",
      "Residential\n",
      "Residential\n",
      "Residential\n",
      "Residential\n",
      "Residential\n",
      "Residential\n",
      "Residential\n",
      "Residential\n",
      "Residential\n",
      "Residential\n",
      "Residential\n",
      "Residential\n",
      "Residential\n",
      "Residential\n",
      "Residential\n",
      "Residential\n",
      "Residential\n",
      "Residential\n",
      "Residential\n",
      "Residential\n",
      "Residential\n",
      "Residential\n",
      "Residential\n",
      "Residential\n",
      "Residential\n",
      "Residential\n",
      "Residential\n",
      "Residential\n",
      "Residential\n",
      "Residential\n",
      "Residential\n",
      "Residential\n",
      "Residential\n",
      "Residential\n",
      "Residential\n",
      "Residential\n",
      "Residential\n",
      "Residential\n",
      "Residential\n",
      "Residential\n",
      "Residential\n",
      "Residential\n",
      "Residential\n",
      "Residential\n",
      "Residential\n",
      "Residential\n",
      "Residential\n",
      "Residential\n",
      "Residential\n",
      "Residential\n",
      "Residential\n",
      "Residential\n",
      "Residential\n",
      "Residential\n",
      "Residential\n",
      "Residential\n",
      "Residential\n",
      "Residential\n",
      "Residential\n",
      "Residential\n",
      "Residential\n",
      "Residential\n",
      "Residential\n",
      "Residential\n",
      "Residential\n",
      "Residential\n",
      "Residential\n",
      "Residential\n",
      "Residential\n",
      "Residential\n",
      "Residential\n",
      "Residential\n",
      "Residential\n",
      "Residential\n",
      "Residential\n",
      "Residential\n",
      "Residential\n",
      "Residential\n",
      "Residential\n",
      "Residential\n",
      "Residential\n",
      "Residential\n",
      "Residential\n",
      "Residential\n",
      "Residential\n",
      "Residential\n",
      "Residential\n",
      "Residential\n",
      "Residential\n",
      "Residential\n",
      "Residential\n",
      "Residential\n",
      "Residential\n",
      "Residential\n",
      "Residential\n",
      "Residential\n",
      "Residential\n",
      "Residential\n",
      "Residential\n",
      "Residential\n",
      "Residential\n",
      "Residential\n",
      "Residential\n",
      "Residential\n",
      "Residential\n",
      "Residential\n",
      "Residential\n",
      "Residential\n",
      "Residential\n",
      "Residential\n",
      "Residential\n",
      "Residential\n",
      "Residential\n",
      "Residential\n",
      "Residential\n",
      "Residential\n",
      "Residential\n",
      "Residential\n",
      "Residential\n",
      "Residential\n",
      "Residential\n",
      "Residential\n",
      "Residential\n",
      "Residential\n",
      "Residential\n",
      "Residential\n",
      "Residential\n",
      "Residential\n",
      "Residential\n",
      "Residential\n",
      "Residential\n",
      "Residential\n",
      "Residential\n",
      "Residential\n",
      "Residential\n",
      "Residential\n",
      "Residential\n",
      "Residential\n",
      "Residential\n",
      "Residential\n",
      "PermanentCrop\n",
      "AnnualCrop\n",
      "Residential\n",
      "Residential\n",
      "Residential\n",
      "Residential\n",
      "Residential\n",
      "PermanentCrop\n",
      "AnnualCrop\n",
      "Residential\n",
      "Residential\n",
      "Residential\n",
      "Residential\n",
      "Residential\n",
      "AnnualCrop\n",
      "PermanentCrop\n",
      "AnnualCrop\n",
      "AnnualCrop\n",
      "PermanentCrop\n",
      "PermanentCrop\n",
      "Residential\n",
      "AnnualCrop\n",
      "PermanentCrop\n",
      "PermanentCrop\n",
      "AnnualCrop\n",
      "PermanentCrop\n",
      "Residential\n",
      "AnnualCrop\n",
      "AnnualCrop\n",
      "Residential\n",
      "Pasture\n",
      "PermanentCrop\n",
      "AnnualCrop\n",
      "PermanentCrop\n",
      "AnnualCrop\n",
      "Residential\n",
      "AnnualCrop\n",
      "PermanentCrop\n",
      "AnnualCrop\n",
      "AnnualCrop\n",
      "AnnualCrop\n",
      "AnnualCrop\n",
      "AnnualCrop\n",
      "Residential\n",
      "Residential\n",
      "Pasture\n",
      "PermanentCrop\n",
      "Residential\n",
      "AnnualCrop\n",
      "AnnualCrop\n",
      "AnnualCrop\n",
      "Residential\n",
      "AnnualCrop\n",
      "AnnualCrop\n",
      "AnnualCrop\n",
      "AnnualCrop\n",
      "AnnualCrop\n",
      "AnnualCrop\n",
      "PermanentCrop\n",
      "Pasture\n",
      "Pasture\n",
      "AnnualCrop\n",
      "PermanentCrop\n",
      "AnnualCrop\n",
      "AnnualCrop\n",
      "AnnualCrop\n",
      "AnnualCrop\n",
      "AnnualCrop\n",
      "AnnualCrop\n",
      "AnnualCrop\n"
     ]
    }
   ],
   "source": [
    "for window, x, y in window_iter(data[0, :1000, :1000, :]):\n",
    "    pred = model.predict(window)\n",
    "    pred_word = classes[np.argmax(pred[0])]\n",
    "    print(pred_word)"
   ]
  },
  {
   "cell_type": "code",
   "execution_count": 33,
   "metadata": {},
   "outputs": [],
   "source": [
    "while round(ydownright,4) >= round(lry,4):\n",
    "    coordinates = [(xupleft, yupleft),\n",
    "              (xupright, yupright),\n",
    "              (xdownright, ydownright),\n",
    "              (xdownleft, ydownleft)]\n",
    "    \n",
    "    #tutaj jakos polaczyc tensor data z wspolrzednymi przestrzennymi\n",
    "    #data_part = data[:, xstart:xend, ystart:yend, :]\n",
    "    data_part = data[:, ystart:yend, xstart:xend, :]\n",
    "    pred = model.predict(data_part)\n",
    "    pred_word = classes[np.argmax(pred[0])]\n",
    "    \n",
    "    with arcpy.da.InsertCursor(fc, [\"LandUseorCover\", 'SHAPE@']) as cursor:\n",
    "        cursor.insertRow([pred_word, coordinates])\n",
    "    \n",
    "    if xupright+64*xres < ulx+rasterxsize*xres:\n",
    "        xupleft = xupleft+64*xres\n",
    "        xupright = xupright+64*xres\n",
    "        xdownleft = xupleft\n",
    "        xdownright = xupright\n",
    "        \n",
    "        xstart = xstart+64\n",
    "        xend = xend+64\n",
    "    else:\n",
    "        xupleft = ulx\n",
    "        yupleft = ydownleft\n",
    "        xupright = xupleft+64*xres\n",
    "        yupright = yupleft\n",
    "        xdownright = xupright\n",
    "        ydownright = (yupright + 64*yres)\n",
    "        xdownleft = xupleft\n",
    "        ydownleft = ydownright\n",
    "        \n",
    "        xstart = 0\n",
    "        xend =64\n",
    "        ystart = ystart+64\n",
    "        yend = yend+64"
   ]
  },
  {
   "cell_type": "code",
   "execution_count": 36,
   "metadata": {},
   "outputs": [
    {
     "data": {
      "text/plain": [
       "array([[8.0139354e-15, 3.1371790e-14, 2.6259073e-12, 9.8394591e-01,\n",
       "        1.6053861e-02, 1.8773974e-18, 6.8323857e-08, 3.0817193e-19,\n",
       "        1.3272653e-15, 8.8971852e-08]], dtype=float32)"
      ]
     },
     "execution_count": 36,
     "metadata": {},
     "output_type": "execute_result"
    }
   ],
   "source": [
    "pred"
   ]
  },
  {
   "cell_type": "code",
   "execution_count": null,
   "metadata": {},
   "outputs": [],
   "source": []
  }
 ],
 "metadata": {
  "kernelspec": {
   "display_name": "Python 3",
   "language": "python",
   "name": "python3"
  },
  "language_info": {
   "codemirror_mode": {
    "name": "ipython",
    "version": 3
   },
   "file_extension": ".py",
   "mimetype": "text/x-python",
   "name": "python",
   "nbconvert_exporter": "python",
   "pygments_lexer": "ipython3",
   "version": "3.6.9"
  }
 },
 "nbformat": 4,
 "nbformat_minor": 4
}
